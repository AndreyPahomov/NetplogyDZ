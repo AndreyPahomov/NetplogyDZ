{
 "cells": [
  {
   "cell_type": "markdown",
   "metadata": {},
   "source": [
    "## 1"
   ]
  },
  {
   "cell_type": "code",
   "execution_count": 1,
   "metadata": {},
   "outputs": [],
   "source": [
    "import requests"
   ]
  },
  {
   "cell_type": "code",
   "execution_count": 2,
   "metadata": {},
   "outputs": [],
   "source": [
    "def value_dict():\n",
    "    r = requests.get('https://www.cbr-xml-daily.ru/daily_json.js')\n",
    "    val = {}\n",
    "    for i in r.json()['Valute']:\n",
    "        val.setdefault(r.json()['Valute'][i]['Name'], r.json()['Valute'][i]['Value'] / r.json()['Valute'][i]['Nominal'])\n",
    "    return val"
   ]
  },
  {
   "cell_type": "code",
   "execution_count": 3,
   "metadata": {},
   "outputs": [],
   "source": [
    "def name_max_value(dict_):\n",
    "    max_ = max(value_dict().values())\n",
    "    for i in value_dict():\n",
    "        if value_dict() [i] == max_:\n",
    "            return i"
   ]
  },
  {
   "cell_type": "code",
   "execution_count": 4,
   "metadata": {},
   "outputs": [
    {
     "data": {
      "text/plain": [
       "'СДР (специальные права заимствования)'"
      ]
     },
     "execution_count": 4,
     "metadata": {},
     "output_type": "execute_result"
    }
   ],
   "source": [
    "name_max_value(value_dict())"
   ]
  },
  {
   "cell_type": "markdown",
   "metadata": {},
   "source": [
    "## 2"
   ]
  },
  {
   "cell_type": "code",
   "execution_count": 266,
   "metadata": {},
   "outputs": [],
   "source": [
    "class Rate:\n",
    "    def __init__(self, format_='value', diff_=True):\n",
    "        self.format = format_\n",
    "        self.diff = diff_\n",
    "    \n",
    "    def exchange_rates(self):\n",
    "        \"\"\"\n",
    "        Возвращает ответ сервиса с информацией о валютах в виде:\n",
    "        \n",
    "        {\n",
    "            'AMD': {\n",
    "                'CharCode': 'AMD',\n",
    "                'ID': 'R01060',\n",
    "                'Name': 'Армянских драмов',\n",
    "                'Nominal': 100,\n",
    "                'NumCode': '051',\n",
    "                'Previous': 14.103,\n",
    "                'Value': 14.0879\n",
    "                },\n",
    "            ...\n",
    "        }\n",
    "        \"\"\"\n",
    "        self.r = requests.get('https://www.cbr-xml-daily.ru/daily_json.js')\n",
    "        return self.r.json()['Valute']\n",
    "    \n",
    "    def make_format(self, currency):\n",
    "        \"\"\"\n",
    "        Возвращает информацию о валюте currency в двух вариантах:\n",
    "        - полная информация о валюте при self.format = 'full':\n",
    "        Rate('full').make_format('EUR')\n",
    "        {\n",
    "            'CharCode': 'EUR',\n",
    "            'ID': 'R01239',\n",
    "            'Name': 'Евро',\n",
    "            'Nominal': 1,\n",
    "            'NumCode': '978',\n",
    "            'Previous': 79.6765,\n",
    "            'Value': 79.4966\n",
    "        }\n",
    "        \n",
    "        Rate('value').make_format('EUR')\n",
    "        79.4966\n",
    "        \"\"\"\n",
    "        response = self.exchange_rates()\n",
    "        \n",
    "        if currency in response:\n",
    "            if self.format == 'full':\n",
    "                return response[currency]\n",
    "            \n",
    "            if self.format == 'value':\n",
    "                return response[currency]['Value']\n",
    "        \n",
    "        return 'Error'\n",
    "    \n",
    "    def eur(self):\n",
    "        \"\"\"\n",
    "        Если self.diff = True и self.format = 'value':\n",
    "        Возвращает изменение курса по сравнению с прошлым днем\n",
    "        В противном случаи:\n",
    "        Возвращает курс валюты на сегодня в формате self.format\n",
    "        \"\"\"\n",
    "        if self.format == 'value' and self.diff == True:\n",
    "            return round(self.make_format('EUR') - self.exchange_rates()['EUR']['Previous'], 4)\n",
    "        else:\n",
    "            return self.make_format('EUR')\n",
    "        \n",
    "    def usd(self):\n",
    "        \"\"\"\n",
    "        Если self.diff = True и self.format = 'value':\n",
    "        Возвращает изменение курса по сравнению с прошлым днем\n",
    "        В противном случаи:\n",
    "        Возвращает курс валюты на сегодня в формате self.format\n",
    "        \"\"\"\n",
    "        if self.format == 'value' and self.diff == True:\n",
    "            return round(self.make_format('USD') - self.exchange_rates()['USD']['Previous'], 4)        \n",
    "        else:\n",
    "            return self.make_format('USD')\n",
    "    \n",
    "    def brl(self):\n",
    "        \"\"\"\n",
    "        Если self.diff = True и self.format = 'value':\n",
    "        Возвращает изменение курса по сравнению с прошлым днем\n",
    "        В противном случаи:\n",
    "        Возвращает курс валюты на сегодня в формате self.format\n",
    "        \"\"\"\n",
    "        if self.format == 'value' and self.diff == True:\n",
    "            return round(self.make_format('BRL') - self.exchange_rates()['BRL']['Previous'], 4)               \n",
    "        else:\n",
    "            return self.make_format('BRL')"
   ]
  },
  {
   "cell_type": "code",
   "execution_count": 267,
   "metadata": {},
   "outputs": [],
   "source": [
    "r = Rate()"
   ]
  },
  {
   "cell_type": "code",
   "execution_count": 268,
   "metadata": {},
   "outputs": [
    {
     "data": {
      "text/plain": [
       "-0.0028"
      ]
     },
     "execution_count": 268,
     "metadata": {},
     "output_type": "execute_result"
    }
   ],
   "source": [
    "r.brl()"
   ]
  },
  {
   "cell_type": "markdown",
   "metadata": {},
   "source": [
    "## 3"
   ]
  },
  {
   "cell_type": "code",
   "execution_count": 131,
   "metadata": {},
   "outputs": [],
   "source": [
    "class Employee:\n",
    "    def __init__(self, name, seniority):\n",
    "        self.name = name\n",
    "        self.seniority = seniority\n",
    "        \n",
    "        self.grade = 1\n",
    "    \n",
    "    def grade_up(self):\n",
    "        \"\"\"Повышает уровень сотрудника\"\"\"\n",
    "        self.grade += 1\n",
    "    \n",
    "    def publish_grade(self):\n",
    "        \"\"\"Публикация результатов аккредитации сотрудников\"\"\"\n",
    "        print(self.name, self.grade)\n",
    "    \n",
    "    def check_if_it_is_time_for_upgrade(self):\n",
    "        pass"
   ]
  },
  {
   "cell_type": "code",
   "execution_count": 263,
   "metadata": {},
   "outputs": [],
   "source": [
    "class Designer(Employee):\n",
    "    def __init__(self, name, seniority = 4):\n",
    "        super().__init__(name, seniority)\n",
    "    \n",
    "    def check_if_it_is_time_for_upgrade(self):\n",
    "        self.seniority += 2\n",
    "        self.grade = int(self.seniority / 7) + 1\n",
    "        \n",
    "        # публикация результатов\n",
    "        return self.publish_grade()"
   ]
  },
  {
   "cell_type": "code",
   "execution_count": 264,
   "metadata": {},
   "outputs": [],
   "source": [
    "alex = Designer ('Александр')"
   ]
  },
  {
   "cell_type": "code",
   "execution_count": 265,
   "metadata": {},
   "outputs": [
    {
     "name": "stdout",
     "output_type": "stream",
     "text": [
      "Александр 1\n",
      "6\n",
      "Александр 2\n",
      "8\n",
      "Александр 2\n",
      "10\n",
      "Александр 2\n",
      "12\n",
      "Александр 3\n",
      "14\n",
      "Александр 3\n",
      "16\n",
      "Александр 3\n",
      "18\n",
      "Александр 3\n",
      "20\n",
      "Александр 4\n",
      "22\n",
      "Александр 4\n",
      "24\n",
      "Александр 4\n",
      "26\n",
      "Александр 5\n",
      "28\n",
      "Александр 5\n",
      "30\n",
      "Александр 5\n",
      "32\n",
      "Александр 5\n",
      "34\n",
      "Александр 6\n",
      "36\n",
      "Александр 6\n",
      "38\n",
      "Александр 6\n",
      "40\n",
      "Александр 7\n",
      "42\n",
      "Александр 7\n",
      "44\n"
     ]
    }
   ],
   "source": [
    "for i in range(20):\n",
    "    alex.check_if_it_is_time_for_upgrade()\n",
    "    print(alex.seniority)"
   ]
  }
 ],
 "metadata": {
  "kernelspec": {
   "display_name": "Python 3",
   "language": "python",
   "name": "python3"
  },
  "language_info": {
   "codemirror_mode": {
    "name": "ipython",
    "version": 3
   },
   "file_extension": ".py",
   "mimetype": "text/x-python",
   "name": "python",
   "nbconvert_exporter": "python",
   "pygments_lexer": "ipython3",
   "version": "3.8.5"
  }
 },
 "nbformat": 4,
 "nbformat_minor": 4
}
