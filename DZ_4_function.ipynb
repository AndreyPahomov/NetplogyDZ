{
 "cells": [
  {
   "cell_type": "code",
   "execution_count": 241,
   "metadata": {},
   "outputs": [],
   "source": [
    "documents = [\n",
    " {'type': 'passport', 'number': '2207 876234', 'name': 'Василий Гупкин'},\n",
    " {'type': 'invoice', 'number': '11-2', 'name': 'Геннадий Покемонов'},\n",
    " {'type': 'insurance', 'number': '10006', 'name': 'Аристарх Павлов'}\n",
    "]\n",
    "directories = {\n",
    " '1': ['2207 876234', '11-2'],\n",
    " '2': ['10006'],\n",
    " '3': []\n",
    "}"
   ]
  },
  {
   "cell_type": "markdown",
   "metadata": {},
   "source": [
    "## 1.1"
   ]
  },
  {
   "cell_type": "code",
   "execution_count": 206,
   "metadata": {},
   "outputs": [],
   "source": [
    "def doc_owner (number_doc):\n",
    "    for i in documents:\n",
    "        if number_doc == i['number']:\n",
    "            result = i['name']\n",
    "            break\n",
    "        else:\n",
    "            result = 'Документ не найден в базе'\n",
    "    return result"
   ]
  },
  {
   "cell_type": "markdown",
   "metadata": {},
   "source": [
    "## 1.2"
   ]
  },
  {
   "cell_type": "code",
   "execution_count": 12,
   "metadata": {},
   "outputs": [],
   "source": [
    "def shelf_numb (number_doc2):\n",
    "    for i in directories.items():\n",
    "        if number_doc2 in i[1]:\n",
    "            result = (f'Документ хранится на полке: {i[0]}')\n",
    "            break\n",
    "        else:\n",
    "            result = (f'Документ не найден в базе')\n",
    "    return result"
   ]
  },
  {
   "cell_type": "markdown",
   "metadata": {},
   "source": [
    "## 1.3"
   ]
  },
  {
   "cell_type": "code",
   "execution_count": 245,
   "metadata": {},
   "outputs": [],
   "source": [
    "def info_doc ():\n",
    "    for i in documents:\n",
    "        print(f\"№: {i['number']}, тип: {i['type']}, владелец: {i['name']}, полка хранения: {shelf_numb(i['number'])[-1]}\")\n",
    "    return"
   ]
  },
  {
   "cell_type": "markdown",
   "metadata": {},
   "source": [
    "## 1.4"
   ]
  },
  {
   "cell_type": "code",
   "execution_count": 79,
   "metadata": {},
   "outputs": [],
   "source": [
    "def new_shelf (numb_shelf):\n",
    "    if numb_shelf not in directories.keys():\n",
    "        directories.setdefault(numb_shelf, [])\n",
    "        result = (f'Полка добавлена. Текущий перечень полок: {\", \".join (directories.keys())}.')\n",
    "    else:\n",
    "        result = (f'Такая полка уже существует. Текущий перечень полок: {\", \".join (directories.keys())}.')\n",
    "    return result"
   ]
  },
  {
   "cell_type": "markdown",
   "metadata": {},
   "source": [
    "## 1.5"
   ]
  },
  {
   "cell_type": "code",
   "execution_count": 99,
   "metadata": {},
   "outputs": [],
   "source": [
    "def delete_shelf (numb_shelf2):\n",
    "    if numb_shelf2 in directories.keys():\n",
    "        if not directories [numb_shelf2]:\n",
    "            del(directories [numb_shelf2])\n",
    "            result = (f'Полка удалена. Текущий перечень полок:{\", \".join (directories.keys())}.')\n",
    "        else:\n",
    "            result = (f'На полке есть документа, удалите их перед удалением полки. Текущий перечень полок:{\", \".join (directories.keys())}.')\n",
    "    else:\n",
    "        result =(f'Такой полки не существует. Текущий перечень полок:{\", \".join (directories.keys())}.')\n",
    "    return result"
   ]
  },
  {
   "cell_type": "markdown",
   "metadata": {},
   "source": [
    "## 2.1"
   ]
  },
  {
   "cell_type": "code",
   "execution_count": 165,
   "metadata": {},
   "outputs": [],
   "source": [
    "def add_doc (number_doc3, type_doc, name, numb_shelf3):\n",
    "    if numb_shelf3 in directories.keys():\n",
    "        directories[numb_shelf3].append(number_doc3)\n",
    "        documents.append({'type': type_doc, 'number': number_doc3, 'name': name})\n",
    "        print(f'Документ добавлен.\\nТекущий список документов:')\n",
    "        info_doc ()\n",
    "    else:\n",
    "        print(f'Такой полки не существует. Добавьте полку командой ads.\\nТекущий список документов:')\n",
    "        info_doc ()"
   ]
  },
  {
   "cell_type": "markdown",
   "metadata": {},
   "source": [
    "## 2.2"
   ]
  },
  {
   "cell_type": "code",
   "execution_count": 234,
   "metadata": {},
   "outputs": [],
   "source": [
    "def del_doc (number_doc4):\n",
    "    directories_list = []\n",
    "    for i in directories.values():\n",
    "        directories_list += i\n",
    "    if number_doc4 in directories_list:\n",
    "        directories[shelf_numb(number_doc4)[-1]].remove(number_doc4)\n",
    "        ind = 0\n",
    "        for i in documents:\n",
    "            if i['number'] == number_doc4:\n",
    "                break\n",
    "            else:\n",
    "                ind += 1\n",
    "        del(documents[ind])\n",
    "        print(f'Документ удален.\\nТекущий список документов:')\n",
    "        info_doc ()\n",
    "    else:\n",
    "        print(f'Документ не найден в базе.\\nТекущий список документов:')\n",
    "        info_doc ()"
   ]
  },
  {
   "cell_type": "code",
   "execution_count": 246,
   "metadata": {},
   "outputs": [
    {
     "name": "stdout",
     "output_type": "stream",
     "text": [
      "Введите команду:l\n",
      "№: 2207 876234, тип: passport, владелец: Василий Гупкин, полка хранения: 1\n",
      "№: 11-2, тип: invoice, владелец: Геннадий Покемонов, полка хранения: 1\n",
      "№: 10006, тип: insurance, владелец: Аристарх Павлов, полка хранения: 2\n",
      "None\n",
      "Введите команду:q\n",
      "Работа завершена\n"
     ]
    }
   ],
   "source": [
    "inp = input('Введите команду:')\n",
    "while inp != 'q':\n",
    "    if inp == 'p': #узнать владельца документа по номеру документа\n",
    "        print(doc_owner(input('Введите номер документа:')))\n",
    "    elif inp == 's': #по номеру документа узнать на какой полке он хранится\n",
    "        print(shelf_numb(input('Введите номер документа:')))\n",
    "    elif inp == 'l': #увидеть полную информацию по всем документам\n",
    "        print(info_doc())\n",
    "    elif inp == 'ads': # добавить новую полку\n",
    "        print(new_shelf(input('Введите номер полки:')))\n",
    "    elif inp == 'ds': # удалить существующую полку из данных (только если она пустая)\n",
    "        print(delete_shelf(input('Введите номер полки:')))\n",
    "    elif inp == 'ad': # добавляет новый документ в данные\n",
    "        print(add_doc(input('Введите номер документа:'), input('Введите тип документа:'), input('Введите владельца документа:'), input('Введите полку для хранения:')))\n",
    "    elif inp == 'd': # удаляет документ\n",
    "        print(del_doc(input('Введите номер документа:')))\n",
    "    inp = input('Введите команду:')\n",
    "print('Работа завершена')"
   ]
  }
 ],
 "metadata": {
  "kernelspec": {
   "display_name": "Python 3",
   "language": "python",
   "name": "python3"
  },
  "language_info": {
   "codemirror_mode": {
    "name": "ipython",
    "version": 3
   },
   "file_extension": ".py",
   "mimetype": "text/x-python",
   "name": "python",
   "nbconvert_exporter": "python",
   "pygments_lexer": "ipython3",
   "version": "3.8.5"
  }
 },
 "nbformat": 4,
 "nbformat_minor": 4
}
