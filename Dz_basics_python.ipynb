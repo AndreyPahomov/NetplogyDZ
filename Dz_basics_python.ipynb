{
 "cells": [
  {
   "cell_type": "markdown",
   "metadata": {},
   "source": [
    "## Задание 1"
   ]
  },
  {
   "cell_type": "code",
   "execution_count": 2,
   "metadata": {},
   "outputs": [
    {
     "name": "stdout",
     "output_type": "stream",
     "text": [
      "Фраза 1 длиннее фразы 2\n"
     ]
    }
   ],
   "source": [
    "phrase_1 = 'Насколько проще было бы писать программы, если бы не заказчики'\n",
    "phrase_2 = '640Кб должно хватить для любых задач. Билл Гейтс (по легенде)'\n",
    "len_phrase_1 = len(phrase_1)\n",
    "len_phrase_2 = len(phrase_2)\n",
    "if len_phrase_1 > len_phrase_2:\n",
    "    print('Фраза 1 длиннее фразы 2')\n",
    "elif len_phrase_1 == len_phrase_2:\n",
    "    print('Фразы равной длины')\n",
    "else:\n",
    "    print('Фраза 2 длиннее фразы 1')"
   ]
  },
  {
   "cell_type": "code",
   "execution_count": 3,
   "metadata": {},
   "outputs": [
    {
     "name": "stdout",
     "output_type": "stream",
     "text": [
      "Фраза 2 длиннее фразы 1\n"
     ]
    }
   ],
   "source": [
    "phrase_1 = '640Кб должно хватить для любых задач. Билл Гейтс (по легенде)'\n",
    "phrase_2 = 'Насколько проще было бы писать программы, если бы не заказчики'\n",
    "len_phrase_1 = len(phrase_1)\n",
    "len_phrase_2 = len(phrase_2)\n",
    "if len_phrase_1 > len_phrase_2:\n",
    "    print('Фраза 1 длиннее фразы 2')\n",
    "elif len_phrase_1 == len_phrase_2:\n",
    "    print('Фразы равной длины')\n",
    "else:\n",
    "    print('Фраза 2 длиннее фразы 1')"
   ]
  },
  {
   "cell_type": "code",
   "execution_count": 4,
   "metadata": {},
   "outputs": [
    {
     "name": "stdout",
     "output_type": "stream",
     "text": [
      "Фразы равной длины\n"
     ]
    }
   ],
   "source": [
    "phrase_1 = 'Насколько проще было бы писать программы, если бы не заказчики'\n",
    "phrase_2 = 'Насколько проще было бы писать программы, если бы не заказчики'\n",
    "len_phrase_1 = len(phrase_1)\n",
    "len_phrase_2 = len(phrase_2)\n",
    "if len_phrase_1 > len_phrase_2:\n",
    "    print('Фраза 1 длиннее фразы 2')\n",
    "elif len_phrase_1 == len_phrase_2:\n",
    "    print('Фразы равной длины')\n",
    "else:\n",
    "    print('Фраза 2 длиннее фразы 1')"
   ]
  },
  {
   "cell_type": "markdown",
   "metadata": {},
   "source": [
    "## Задание 2"
   ]
  },
  {
   "cell_type": "code",
   "execution_count": 5,
   "metadata": {},
   "outputs": [
    {
     "name": "stdout",
     "output_type": "stream",
     "text": [
      "Високосный год\n"
     ]
    }
   ],
   "source": [
    "year = 2020\n",
    "if year % 4 == 0:\n",
    "    print('Високосный год')\n",
    "else:\n",
    "    print('Обычный год')"
   ]
  },
  {
   "cell_type": "code",
   "execution_count": 6,
   "metadata": {},
   "outputs": [
    {
     "name": "stdout",
     "output_type": "stream",
     "text": [
      "Обычный год\n"
     ]
    }
   ],
   "source": [
    "year = 2019\n",
    "if year % 4 == 0:\n",
    "    print('Високосный год')\n",
    "else:\n",
    "    print('Обычный год')"
   ]
  },
  {
   "cell_type": "markdown",
   "metadata": {},
   "source": [
    "## Задание 3"
   ]
  },
  {
   "cell_type": "code",
   "execution_count": 21,
   "metadata": {},
   "outputs": [
    {
     "name": "stdout",
     "output_type": "stream",
     "text": [
      "Введите день - 29\n",
      "Введите месяц - Октябрь\n",
      "Ваш знак зодиака - Скорпион\n"
     ]
    }
   ],
   "source": [
    "day = int(input('Введите день - '))\n",
    "month = input('Введите месяц - ')\n",
    "if month == 'Март'and 21 <= day <= 31 or month == 'Апрель'and 1 <= day <= 19:\n",
    "    print('Ваш знак зодиака - Овен')\n",
    "elif month == 'Апрель'and 20 <= day <= 30 or month == 'Май'and 1 <= day <= 20:\n",
    "    print('Ваш знак зодиака - Телец')\n",
    "elif month == 'Май'and 21 <= day <= 31 or month == 'Июнь'and 1 <= day <= 20:\n",
    "    print('Ваш знак зодиака - Близнецы')\n",
    "elif month == 'Июнь'and 21 <= day <= 30 or month == 'Июль'and 1 <= day <= 22:\n",
    "    print('Ваш знак зодиака - Рак')\n",
    "elif month == 'Июль'and 23 <= day <= 31 or month == 'Август'and 1 <= day <= 22:\n",
    "    print('Ваш знак зодиака - Лев')\n",
    "elif month == 'Август'and 23 <= day <= 31 or month == 'Сентябрь'and 1 <= day <= 22:\n",
    "    print('Ваш знак зодиака - Дева')\n",
    "elif month == 'Сентябрь'and 23 <= day <= 30 or month == 'Октябрь'and 1 <= day <= 22:\n",
    "    print('Ваш знак зодиака - Весы')\n",
    "elif month == 'Октябрь'and 23 <= day <= 31 or month == 'Ноябрь'and 1 <= day <= 21:\n",
    "    print('Ваш знак зодиака - Скорпион')\n",
    "elif month == 'Ноябрь'and 22 <= day <= 30 or month == 'Декабрь'and 1 <= day <= 21:\n",
    "    print('Ваш знак зодиака - Стрелец')\n",
    "elif month == 'Декабрь'and 22 <= day <= 31 or month == 'Январь'and 1 <= day <= 19:\n",
    "    print('Ваш знак зодиака - Козерог')\n",
    "elif month == 'Январь'and 20 <= day <= 31 or month == 'Февраль'and 1 <= day <= 18:\n",
    "    print('Ваш знак зодиака - Водолей')\n",
    "elif month == 'Февраль'and 19 <= day <= 29 or month == 'Март'and 1 <= day <= 20:\n",
    "    print('Ваш знак зодиака - Рыбы')\n",
    "else:\n",
    "    print('Ошибка. Такой даты не существует или не верный формат ввода. Пример правильного формата 1 Март')"
   ]
  },
  {
   "cell_type": "markdown",
   "metadata": {},
   "source": [
    "## Задание 4"
   ]
  },
  {
   "cell_type": "code",
   "execution_count": 38,
   "metadata": {},
   "outputs": [
    {
     "name": "stdout",
     "output_type": "stream",
     "text": [
      "Упаковка для лыж\n"
     ]
    }
   ],
   "source": [
    "width = 10\n",
    "length = 205\n",
    "height = 5\n",
    "if width < 15 and length < 15 and height < 15:\n",
    "    print('Коробка №1')\n",
    "elif 15 < width < 50 or 15 < length < 50 or 15 < height < 50:\n",
    "    print('Коробка №2')\n",
    "elif length > 200:\n",
    "    print('Упаковка для лыж')\n",
    "else:\n",
    "    print('Стандартная коробка №3')\n"
   ]
  },
  {
   "cell_type": "markdown",
   "metadata": {},
   "source": [
    "## Задание 5"
   ]
  },
  {
   "cell_type": "code",
   "execution_count": 43,
   "metadata": {},
   "outputs": [
    {
     "name": "stdout",
     "output_type": "stream",
     "text": [
      "Введите номер билета \n",
      "None123321\n",
      "Счастливый билет\n"
     ]
    }
   ],
   "source": [
    "a = int(input(print('Введите номер билета ')))\n",
    "\n",
    "b = a//1000\n",
    "\n",
    "one = b // 100\n",
    "two = b // 10 % 10    \n",
    "three = b % 10\n",
    "\n",
    "c = a % 1000\n",
    "\n",
    "four = c // 100\n",
    "five = c // 10 % 10\n",
    "six = c % 10\n",
    "\n",
    "if (one+two+three)==(four+five+six):\n",
    "    print ('Счастливый билет')\n",
    "else:\n",
    "    print ('Неасчастливый билет')"
   ]
  }
 ],
 "metadata": {
  "kernelspec": {
   "display_name": "Python 3",
   "language": "python",
   "name": "python3"
  },
  "language_info": {
   "codemirror_mode": {
    "name": "ipython",
    "version": 3
   },
   "file_extension": ".py",
   "mimetype": "text/x-python",
   "name": "python",
   "nbconvert_exporter": "python",
   "pygments_lexer": "ipython3",
   "version": "3.8.5"
  }
 },
 "nbformat": 4,
 "nbformat_minor": 4
}
