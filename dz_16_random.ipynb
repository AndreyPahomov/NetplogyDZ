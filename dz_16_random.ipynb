{
 "cells": [
  {
   "cell_type": "markdown",
   "metadata": {},
   "source": [
    "Расчитаем теоретический средний выиигрыш (проигрыш)"
   ]
  },
  {
   "cell_type": "code",
   "execution_count": 250,
   "metadata": {},
   "outputs": [],
   "source": [
    "a ={777 : 200,\n",
    "    999 : 100,\n",
    "    555 : 50,\n",
    "    333 : 15,\n",
    "    111 : 10,\n",
    "    'x77' : 5,\n",
    "    'xx7' : 3,\n",
    "    'x00' : 2,\n",
    "    'xx0' : 1}"
   ]
  },
  {
   "cell_type": "code",
   "execution_count": 251,
   "metadata": {},
   "outputs": [],
   "source": [
    "h ={777 : 1/1000,\n",
    "    999 : 1/1000,\n",
    "    555 : 1/1000,\n",
    "    333 : 1/1000,\n",
    "    111 : 1/1000,\n",
    "    'x77' : (10-1)/1000,\n",
    "    'xx7' : (100-10)/1000,\n",
    "    'x00' : 10/1000,\n",
    "    'xx0' : (100-10)/1000}"
   ]
  },
  {
   "cell_type": "code",
   "execution_count": 252,
   "metadata": {},
   "outputs": [
    {
     "data": {
      "text/plain": [
       "0.8"
      ]
     },
     "execution_count": 252,
     "metadata": {},
     "output_type": "execute_result"
    }
   ],
   "source": [
    "p_a = 0\n",
    "for i in a:\n",
    "    p_a += a[i] * h[i]\n",
    "p_a"
   ]
  },
  {
   "cell_type": "markdown",
   "metadata": {},
   "source": [
    "В среднем игрок будет получать 0,8 рубля за каждый потраченый 1 рубль, или терять 0,2 рубля "
   ]
  },
  {
   "cell_type": "markdown",
   "metadata": {},
   "source": [
    "Смоделируем игру по методу Монте-Карло"
   ]
  },
  {
   "cell_type": "code",
   "execution_count": 254,
   "metadata": {},
   "outputs": [
    {
     "data": {
      "text/plain": [
       "0.804046"
      ]
     },
     "execution_count": 254,
     "metadata": {},
     "output_type": "execute_result"
    }
   ],
   "source": [
    "import numpy as np\n",
    "win = 0\n",
    "iteration = 1000000\n",
    "for i in range(iteration):\n",
    "    try_ = np.random.randint(0,1000)\n",
    "    if try_ in a.keys():\n",
    "        win += a[try_]\n",
    "    elif try_ % 100 == 77:\n",
    "        win += a['x77']\n",
    "    elif try_ % 10 == 7:\n",
    "        win += a['xx7']\n",
    "    elif try_ % 100 == 0:\n",
    "        win += a['x00']\n",
    "    elif try_ % 10 == 0:\n",
    "        win += a['xx0']\n",
    "\n",
    "p_monte_carlo = win / iteration\n",
    "p_monte_carlo"
   ]
  },
  {
   "cell_type": "markdown",
   "metadata": {},
   "source": [
    "Опытный показатель близок к расчетному"
   ]
  }
 ],
 "metadata": {
  "kernelspec": {
   "display_name": "Python 3",
   "language": "python",
   "name": "python3"
  },
  "language_info": {
   "codemirror_mode": {
    "name": "ipython",
    "version": 3
   },
   "file_extension": ".py",
   "mimetype": "text/x-python",
   "name": "python",
   "nbconvert_exporter": "python",
   "pygments_lexer": "ipython3",
   "version": "3.8.5"
  }
 },
 "nbformat": 4,
 "nbformat_minor": 4
}
